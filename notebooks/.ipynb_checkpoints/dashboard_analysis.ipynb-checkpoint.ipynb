{
 "cells": [
  {
   "cell_type": "code",
   "execution_count": null,
   "id": "fc7fc83b-2582-4524-b57b-a9c081b1f944",
   "metadata": {},
   "outputs": [],
   "source": [
    "# Combined Chart\n",
    "df.plot(x=\"Channel\", y=[\"CTR\", \"Engagement Rate\"], kind=\"bar\", figsize=(8,5))\n",
    "plt.title(\"CTR & Engagement by Channel\")\n",
    "plt.tight_layout()\n",
    "plt.savefig(r\"E:\\multi-channel-campaign-dashboard\\reports\\ctr_engagement_combined.png\")\n",
    "plt.show()\n"
   ]
  }
 ],
 "metadata": {
  "kernelspec": {
   "display_name": "Python 3 (ipykernel)",
   "language": "python",
   "name": "python3"
  },
  "language_info": {
   "codemirror_mode": {
    "name": "ipython",
    "version": 3
   },
   "file_extension": ".py",
   "mimetype": "text/x-python",
   "name": "python",
   "nbconvert_exporter": "python",
   "pygments_lexer": "ipython3",
   "version": "3.13.0"
  }
 },
 "nbformat": 4,
 "nbformat_minor": 5
}
